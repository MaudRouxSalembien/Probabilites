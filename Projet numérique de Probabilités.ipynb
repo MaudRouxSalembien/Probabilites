{
 "cells": [
  {
   "cell_type": "markdown",
   "metadata": {},
   "source": [
    "# Enoncé du problème\n",
    "\n",
    "L'objectif de ce projet est d'estimer la longueur de câble sous-marin nécessaire pour relier deux côtes $A$ et $B$  en utilisant des simulations conditionnelles.\n",
    "\n",
    "\n",
    "Le câble reposera sur le fond marin dont la profondeur est inconnue.\n",
    "Le segment $[AB]$ est discrétisé par une séquence de (N+1) points. On pose $x_0=A$ et pour $i=1,\\dots,N$, $$x_i=x_0+i\\Delta$$ où $$\\Delta = \\frac{AB}{N}$$ de telle sorte que $x_N=B$.\n",
    "On note $z(x)$ la profondeur du fond marin au point $x$ de telle sorte \n",
    "qu'on pourra estimer la longueur totale de câble nécessaire par la somme \n",
    "des longueurs sur les segments de la discrétisation :\n",
    "\n",
    "$$l=\\sum_{i=1}^N\\sqrt{\\Delta^2+(z(x_i)-z(x_{i-1}))^2}.$$\n",
    "\n",
    "Enfin, notons que l'on dispose d'un ensemble de $n$ observations de la \n",
    "profondeur que l'on supposera situées sur des points de discrétisation $z(x_{j_1}),\\dots,z(x_{j_n})$.\n",
    "\n",
    "\n",
    "On adopte un modèle probabiliste pour la profondeur. On suppose que le vecteur des \n",
    "profondeurs sur les points de discrétisation \n",
    "$\\mathbf{z}=(z(x_0),\\dots,z(x_N))$ est la réalisation\n",
    "d'un vecteur aléatoire gaussien $\\mathbf{Z}=(Z(x_0),\\dots,Z(x_N))$ \n",
    "dont le vecteur d'espérance ne contient qu'une seule valeur $\\mu$ \n",
    "répétée $N+1$ fois et dont la matrice de covariance $\\Sigma$ a pour termes $\\sigma_{ij}$\n",
    "définis par $\\sigma_{ij}=C(|x_i-x_j|)$ où $C$ est une\n",
    "fonction décroissante, traduisant le fait que deux points \n",
    "géographiquement proches ont tendance à avoir des profondeurs plus similaires que deux points éloignés.\n",
    "\n",
    "On supposera que la matrice de covariance ainsi \n",
    "générée est définie-positive (en fait, $C$ sera choisie parmi les fonctions qui, \n",
    "appliquées aux termes d'une matrice de distance, produisent des matrices définie-positives). \n",
    "\n",
    "Si on note $L$ la variable aléatoire donnant la longueur de cable nécessaire : \n",
    "$$L=\\sum_{i=1}^N\\sqrt{\\Delta^2+(Z(x_i)-Z(x_{i-1}))^2},$$\n",
    "un bon estimateur de $L$ est fourni par l'espérance conditionnelle \n",
    "\n",
    "$$L^\\star=E[L|Z(x_{j_1})=z(x_{j_1}),\\dots,Z(x_{j_n})=z(x_{j_n})].$$\n",
    "                                                                              \n",
    "Cependant, cette quantité est difficilement accessible par le calcul. \n",
    "On va donc avoir recours à des\n",
    "simulations conditionnelles. C'est-à-dire que l'on va simuler \n",
    "un nombre $K$ de réalités (disons des réalisations du modèle \n",
    "probabiliste choisi), et sur chacune d'entre elle, \n",
    "la quantité de câble nécessaire sera évaluée. \n",
    "On disposera ainsi d'un échantillon $l_{(1)},\\dots,l_{(K)}$ de \n",
    "longueures simulées. Puis on approchera l'espérance conditionnelle  par \n",
    "$$L^\\star=\\frac{1}{K}\\sum_{k=1}^K l_{(k)}.$$\n",
    "\n",
    "L'objectif de ce projet est donc d'écrire un code permettant \n",
    "d'effectuer cette simulation conditionnelle, puis de l'appliquer \n",
    "au jeu de données fourni et d'en déduire une estimation de la longueur de câble nécessaire."
   ]
  },
  {
   "cell_type": "markdown",
   "metadata": {},
   "source": [
    "# Questions théoriques\n",
    "\n",
    "1. Quel théorème du cours nous autorise-t-il à estimer l'espérance conditionnelle par la moyenne empirique de simulations conditionnelles ?\n",
    "\n",
    "2. Rappeler la loi conditionnelle du vecteur des composantes de $\\mathbf{Z}$ correspondant aux points de discrétisation\n",
    "sans observation, connaissant les valeurs prises par les composantes aux sites d'observation.\n",
    "\n",
    "3. Si $\\mathbf{Y}=(Y_1,\\dots,Y_p)$ est un vecteur de composantes gaussiennes indépendantes, toutes d'espérance nulle et de variance 1, \n",
    "quelle est la loi du vecteur $\\mathbf{Z}=m+R\\mathbf{Y}$ où $R$ est une matrice $p\\times p$ et $m$ est un vecteur de taille $p$ ?\n",
    "\n",
    "4. En déduire un algorithme de simulation conditionnelle."
   ]
  },
  {
   "cell_type": "markdown",
   "metadata": {},
   "source": [
    "1 : La loi forte des grands nombres nous permet d'estimer l'espérance conditionnelle par la moyenne empirique de simulations conditionnelles.\n",
    "\n",
    "2 : On note $X$ le vecteur gaussien correspondant aux points de discrétisation sans observation, et $Y$ le vecteur gaussien correspondant aux points observés. D'après le cours,\n",
    "\n",
    "$\\mathbf{P}_{X|Y=y} (x)= \\frac{1}{(2\\pi)^\\frac{k}{2} \\sqrt{det(CS_X)}} exp(-\\frac{1}{2} (x-\\psi (y))^t C S_{X}^{-1} (x-\\psi (y) ) ) )$\n",
    "\n",
    "avec $C S_X = C_X - C_{X,Y}C_Y^{-1} C_{Y,X}$   \n",
    "où   $C_X = Cov(X, X)$, $C_Y = Cov(Y, Y)$, $C_{X,Y} = Cov(X, Y)$\n",
    "\n",
    "3 : $Y$ est centrée réduite donc d'après le cours (simulation d'un vecteur gaussien), le vecteur $Z$ suit une loi normale d'espérance $m$ et de matrice de covariance $RR^{t}$.\n",
    "\n",
    "4 : On commence par simuler un vecteur gaussien $Z = (z_1, ... , z_k)$ d'espérance $0$ et de matrice de covariance l'identité, par exemple grâce à numpy. Puis on utilise la relation ci-dessus pour nous ramener à un vecteur ayant l'espérance et la matrice de covariance que l'on souhaite.\n",
    "En l'occurence, pour simuler la loi conditionnelle de $X$ sachant $Y=y$ il faut prendre pour espérance $m_{X|Y=y}=\\psi(y) = m_x + C_{X,Y}C^{-1}_Y(y-m_Y)$\n",
    "et pour matrice de covariance $C_X - C_{X,Y}C_Y^{-1} C_{Y,X}$. Nous avons donc besoin de calculer la décomposition de Cholesky de $C S_X$."
   ]
  },
  {
   "cell_type": "markdown",
   "metadata": {},
   "source": [
    "# Données du problème\n",
    "Conventionnellement, $A$ est l'origine, $B=500$, $N=100$.\n",
    "\n",
    "Les données $$\\begin{array}{c|r}i & z(x_i)\\\\\n",
    "\\hline\n",
    "0 & 0\\\\\n",
    "20 & -4\\\\\n",
    "40 & -12.8\\\\\n",
    "60 & -1\\\\\n",
    "80 & -6.5\\\\\n",
    "100 & 0\\end{array}$$\n",
    "\n",
    "L'espérance de chaque composante du vecteur aléatoire $\\mathbf{Z}$ est donnée par $\\mu=-5.$\n",
    "\n",
    "La fonction $C$ est définie par $$C(h)=\\sigma^2 e^{-|h|/a},$$\n",
    "\n",
    "où $|h|$ correspond à la distance entre deux points, $a=50$ et $\\sigma^2=12$.\n"
   ]
  },
  {
   "cell_type": "markdown",
   "metadata": {},
   "source": [
    "# Implémentation"
   ]
  },
  {
   "cell_type": "markdown",
   "metadata": {},
   "source": [
    "## Préambule"
   ]
  },
  {
   "cell_type": "code",
   "execution_count": 2,
   "metadata": {
    "collapsed": true
   },
   "outputs": [],
   "source": [
    "#Chargement de dépendances\n",
    "\n",
    "import numpy as np\n",
    "import matplotlib.pyplot as plt\n",
    "\n",
    "#Discrétisation\n",
    "A=0\n",
    "B=500\n",
    "N=101 #Nombre de points de discrétisation\n",
    "Delta = (B-A)/(N-1)\n",
    "discretization_indexes = np.arange(N)\n",
    "discretization = discretization_indexes*Delta\n",
    "#Paramètres du modèle\n",
    "\n",
    "mu=-5\n",
    "a = 50\n",
    "sigma2 = 12\n",
    "\n",
    "#Données\n",
    "\n",
    "observation_indexes = [0,20,40,60,80,100]\n",
    "depth = np.array([0,-4,-12.8,-1,-6.5,0])\n",
    "\n",
    "#Indices des composantes correspondant aux observations et aux componsantes non observées\n",
    "\n",
    "unknown_indexes=list(set(discretization_indexes)-set(observation_indexes))"
   ]
  },
  {
   "cell_type": "markdown",
   "metadata": {},
   "source": [
    "## Questions\n",
    "\n",
    "1. Ecrire une fonction qui prend en argument la distance entre les points, le paramètre $a$, et le paramètre $\\sigma^2$, et qui retourne la covariance entre deux points.\n",
    "On pourra fournir une matrice de distance à cette fonction. Dans ce cas, la fonction renverra la matrice de covariance."
   ]
  },
  {
   "cell_type": "code",
   "execution_count": 3,
   "metadata": {
    "collapsed": true
   },
   "outputs": [],
   "source": [
    "def cov(dist,a,sigma2):\n",
    "    return sigma2 * np.exp(-dist/a)"
   ]
  },
  {
   "cell_type": "markdown",
   "metadata": {},
   "source": [
    "2. Calculer la matrice de distance."
   ]
  },
  {
   "cell_type": "code",
   "execution_count": 4,
   "metadata": {
    "collapsed": true
   },
   "outputs": [],
   "source": [
    "def distance(x):\n",
    "    return abs(discretization[x[0]]-discretization[x[1]])\n",
    "\n",
    "Matrice_Dist = [[distance((i,j)) for i in range(N)] for j in range(N)] #matrice de distance"
   ]
  },
  {
   "cell_type": "markdown",
   "metadata": {},
   "source": [
    "3. Calculer la matrice de covariance du vecteur $\\mathbf{Z}=(Z(x_0),\\dots,Z(x_N))$."
   ]
  },
  {
   "cell_type": "code",
   "execution_count": 5,
   "metadata": {
    "collapsed": true
   },
   "outputs": [],
   "source": [
    "Matrice_covariance = [[cov(distance((i,j)),a,sigma2) for i in range(N)] for j in range(N)]"
   ]
  },
  {
   "cell_type": "markdown",
   "metadata": {},
   "source": [
    "4. Extraire les 3 matrices de covariance suivantes :\n",
    "\n",
    " * entre les observations\n",
    "\n",
    " * entre les observations et les inconnues\n",
    "\n",
    " * entre les inconnues\n"
   ]
  },
  {
   "cell_type": "code",
   "execution_count": 6,
   "metadata": {
    "collapsed": true
   },
   "outputs": [],
   "source": [
    "n = len(observation_indexes)\n",
    "C_observations = np.zeros((n, n)) #matrice de covariance entre les observations\n",
    "C_obs_unknown = np.zeros((n, N-n))#matrice de covariance entre les observations et les inconnues\n",
    "C_unknown = np.zeros((N-n, N-n)) #matrice de covariance des inconnues\n",
    "\n",
    "for i, e in enumerate(observation_indexes):\n",
    "    for j, f in enumerate(observation_indexes):\n",
    "        C_observations[i][j] = Matrice_covariance[e][f]\n",
    "\n",
    "for i, e in enumerate(observation_indexes):\n",
    "    for j, f in enumerate(unknown_indexes):\n",
    "        C_obs_unknown[i][j] = Matrice_covariance[e][f]\n",
    "\n",
    "for i, e in enumerate(unknown_indexes):\n",
    "    for j, f in enumerate(unknown_indexes):\n",
    "        C_unknown[i][j] = Matrice_covariance[e][f]"
   ]
  },
  {
   "cell_type": "markdown",
   "metadata": {},
   "source": [
    "5. Calculer l'espérance conditionnelle des composantes non observées connaissant les observations et la représenter avec les données."
   ]
  },
  {
   "cell_type": "markdown",
   "metadata": {},
   "source": [
    "espérance conditionnelle de $X$ sachant $Y=(z_1,..., z_{n})$ d'après le poly proba IV: \n",
    "$m_{X|Y=y}=\\psi(y) = m_x + C_{X,Y}C^{-1}_Y(y-m_Y)$\n",
    "\n"
   ]
  },
  {
   "cell_type": "code",
   "execution_count": 7,
   "metadata": {
    "collapsed": true
   },
   "outputs": [],
   "source": [
    "m_x=-5*np.ones(N-n) #n est le nombre d'observations\n",
    "m_y=-5*np.ones(n)\n",
    "y=np.random.multivariate_normal(m_y, C_observations) \n",
    "#on calcule l'espérance conditionnelle pour le point y = depths (tableau des observations)\n",
    "m = m_x + np.dot(np.transpose(C_obs_unknown), np.dot(np.linalg.inv(C_observations), depth-m_y))"
   ]
  },
  {
   "cell_type": "code",
   "execution_count": 8,
   "metadata": {},
   "outputs": [
    {
     "data": {
      "image/png": "[encoded data removed]",
      "text/plain": [
       "<matplotlib.figure.Figure at 0x2132cc68860>"
      ]
     },
     "metadata": {},
     "output_type": "display_data"
    }
   ],
   "source": [
    "Y=[discretization[i] for i in unknown_indexes]\n",
    "M=[m[i] for i in range(N-n)]\n",
    "plt.plot(Y, M)\n",
    "t = [discretization[i] for i in observation_indexes]\n",
    "plt.plot(t, depth) \n",
    "plt.show()\n",
    "#espérance conditionnelle en bleu\n",
    "#données en orange"
   ]
  },
  {
   "cell_type": "markdown",
   "metadata": {},
   "source": [
    "On remarque que les deux courbes sont proches, ce qui montre que les données et l'espérance sont cohérantes entre elles. On pourrait parfaitement imaginer le tracé de l'espérance du vecteur $Z$ sachant $Y=y$ (qui comprend à la fois les observations et les inconnues), on obtiendrait une courbe similaire, les données complétant l'espérance conditionnelle."
   ]
  },
  {
   "cell_type": "markdown",
   "metadata": {},
   "source": [
    "6. Calculer la matrice de variance conditionnelle et tracer sa diagonale (variance conditionnelle) en fonction de la position. Commenter."
   ]
  },
  {
   "cell_type": "code",
   "execution_count": 9,
   "metadata": {},
   "outputs": [
    {
     "data": {
      "image/png": "[encoded data removed]",
      "text/plain": [
       "<matplotlib.figure.Figure at 0x2132bc8c7b8>"
      ]
     },
     "metadata": {},
     "output_type": "display_data"
    }
   ],
   "source": [
    "#calcul de la matrice de covariance conditionnelle\n",
    "Cov_conditionnelle = C_unknown - np.dot(np.transpose(C_obs_unknown), np.dot(np.linalg.inv(C_observations), C_obs_unknown))\n",
    "#tracé\n",
    "position = [discretization[i] for i in unknown_indexes]\n",
    "diagonale = [Cov_conditionnelle[i][i] for i in range(N-n)]\n",
    "plt.plot(position, diagonale)\n",
    "plt.show()"
   ]
  },
  {
   "cell_type": "markdown",
   "metadata": {},
   "source": [
    "On remarque deux choses: premièrement tous les 20 points (correspondant à 100 mètres) la covariance tombe à 2, deuxièmement le même motif se répète, translaté de 20 points en 20 points.\n",
    "\n",
    "La première remarque s'explique par le fait que tous les 20 points, on a une observation. Logiquement, la profondeur d'un point situé à proximité d'une observation n'est pas très éloignée de la profondeur de cette observation. Plus on s'éloigne d'un point connu, plus la profondeur peut s'éloigner de celle du point connu. C'est bien ce qu'on observe sur le graphique.\n",
    "\n",
    "Par ailleurs la répétition d'un même motif est due au fait que toutes les composantes du vecteur $Z$ suivent la même loi : la seule chose qui distingue les points entre eux est leur distance à l'observation la plus proche d'eux."
   ]
  },
  {
   "cell_type": "markdown",
   "metadata": {},
   "source": [
    "7. Effectuer une simulation conditionnelle. Sur un même graphique, tracer la simulation ainsi que les données et l'espérance conditionnelle. Commenter."
   ]
  },
  {
   "cell_type": "code",
   "execution_count": 10,
   "metadata": {},
   "outputs": [
    {
     "data": {
      "image/png": "[encoded data removed]",
      "text/plain": [
       "<matplotlib.figure.Figure at 0x2132bd11470>"
      ]
     },
     "metadata": {},
     "output_type": "display_data"
    }
   ],
   "source": [
    "profondeur = np.linspace(0, -30, 100)\n",
    "def simulation_conditionnelle(nb):\n",
    "    s = np.zeros(N-n)\n",
    "    for i in range(nb):                                     #on utilise numpy pour simuler une variable gaussiennenne\n",
    "        s+=np.random.multivariate_normal(m, Cov_conditionnelle)   #d'éspérance et de matrice de covariance souhaitée\n",
    "    return s/nb\n",
    "\n",
    "x = [discretization[i] for i in unknown_indexes]\n",
    "y = simulation_conditionnelle(100)\n",
    "plt.plot(x, y) #simulation en bleu\n",
    "plt.plot(x, m) #espéreance en orange\n",
    "plt.plot(t, depth) #données en vert\n",
    "plt.show()"
   ]
  },
  {
   "cell_type": "code",
   "execution_count": 17,
   "metadata": {
    "collapsed": true
   },
   "outputs": [],
   "source": [
    "#Nous avons fait le choix d'utiliser l'outil de numpy de cette manière, \n",
    "#mais nous aurions également pu utiliser la question 4 des questions théoriques pour faire nos simulations\n",
    "#à partir d'une gaussienne centrée de matrice de covariance l'identité.\n",
    "#on aurait alors écrit: \n",
    "\n",
    "R = np.linalg.cholesky(Cov_conditionnelle)\n",
    "def simulation_conditionnelle(nb):\n",
    "    s = np.zeros(N-n)\n",
    "    for i in range(nb):                                     \n",
    "        s += m + np.dot(R, np.random.multivariate_normal(np.zeros(N-n), np.eye(N-n, N-n)))\n",
    "    return s/nb"
   ]
  },
  {
   "cell_type": "markdown",
   "metadata": {},
   "source": [
    "On remarque que les trois courbes sont proches les unes des autres, en particulier la courbe orange (espérance conditionnelle) est cohérente avec les profondeurs mesurées (points non dérivables de la courbe verte). Comme on peut s'y attendre la simulation de l'espérance a la même allure générale que cette dernière, à ceci près que la courbe de l'espérance est bien lisse tandis que celle de la simulation est irrégulière. L'aléa de chaque simulation est \"lissé\" lorsque l'on fait une moyenne, d'où cette différence."
   ]
  },
  {
   "cell_type": "markdown",
   "metadata": {},
   "source": [
    "\n",
    "8. Ecrire une fonction qui calcule la longueur du câble en fonction du vecteur des profondeurs et du pas de discrétisation."
   ]
  },
  {
   "cell_type": "code",
   "execution_count": 11,
   "metadata": {
    "collapsed": true
   },
   "outputs": [],
   "source": [
    "def longueur_totale(profondeur, pas):\n",
    "    s = 0\n",
    "    for i in range(0, len(profondeur)-1):\n",
    "        s += (pas**2 + (profondeur[i]-profondeur[i+1])**2)**(1/2)\n",
    "        \n",
    "    return s"
   ]
  },
  {
   "cell_type": "markdown",
   "metadata": {},
   "source": [
    "9. Utiliser cette fonction pour calculer la longueur du câble à partir de 100 simulations. Comparer l'espérance conditionnelle (estimée) de la longueur avec la longueur de l'espérance conditionnelle."
   ]
  },
  {
   "cell_type": "code",
   "execution_count": 12,
   "metadata": {},
   "outputs": [
    {
     "name": "stdout",
     "output_type": "stream",
     "text": [
      "avec 100 simulations, on trouve une longueur de  522.661789027 m\n",
      "la longueur de l'espérance conditionnelle est  501.646841692 m\n"
     ]
    }
   ],
   "source": [
    "def longueur_cable(nb):\n",
    "    profondeur = np.zeros(N)\n",
    "    for i, j in enumerate(observation_indexes):            #on initialise avec les points déjà connus, \n",
    "        profondeur[j] = depth[i]                        #qui ne varient pas au cours des simulations\n",
    "    s = 0\n",
    "    for i in range(nb):\n",
    "        y = np.random.multivariate_normal(m, Cov_conditionnelle)  #à chaque simulation on fait varier les autres \n",
    "        for i, j in enumerate(unknown_indexes):                   #composantes\n",
    "            profondeur[j] = y[i]\n",
    "        s += longueur_totale(profondeur, Delta)\n",
    "    return s/nb\n",
    "print('avec 100 simulations, on trouve une longueur de ', longueur_cable(100), 'm')\n",
    "#longueur de l'espérance conditionnelle\n",
    "profondeur = np.zeros(N)\n",
    "for i, j in enumerate(observation_indexes):\n",
    "    profondeur[j] = depth[i]\n",
    "for i, j in enumerate(unknown_indexes):\n",
    "        profondeur[j] = m[i]\n",
    "print(\"la longueur de l'espérance conditionnelle est \", longueur_totale(profondeur, Delta), 'm')"
   ]
  },
  {
   "cell_type": "markdown",
   "metadata": {},
   "source": [
    "On remarque une différence d'une vingtaine de mètres entre la longueur de l'espérance conditionnelle et l'espérance conditionnelle simulée de la longueur. Ce résultat s'explique par l'allure de l'espréance conditionnelle simulée à la question précédente : nous avions remarqué qu'elle était beaucoup plus irrégulière que la véritable espérance. On comprend bien que lorsqu'on simule une fois le vecteur $Z$, on obtient également un tracé irrégulier. Lorsqu'on calcule sa longueur, tous ces \"détours\" par rapport à l'espérance s'ajoutent les uns aux autres pour donner une longueur totale plus élevée. Comme la distance ente deux points consécutifs est un nombre positif, faire plusieurs simulations ne permet pas de corriger ce phénomène. \n",
    "\n",
    "Plus rigoureusement, la fonction longueur-câble n'est pas linéraire, il n'y a donc pas de raison que la longueur de l'espérence et la moyenne de la longeur (qui est une esprérence approchée de la longueur) soient identiques."
   ]
  },
  {
   "cell_type": "markdown",
   "metadata": {},
   "source": [
    "10. Représenter la suite $M_n$ des moyennes des longueurs de câbles en fonction du nombre de simulations. Commenter."
   ]
  },
  {
   "cell_type": "code",
   "execution_count": 13,
   "metadata": {},
   "outputs": [
    {
     "data": {
      "image/png": "[encoded data removed]",
      "text/plain": [
       "<matplotlib.figure.Figure at 0x2c94bdef518>"
      ]
     },
     "metadata": {},
     "output_type": "display_data"
    }
   ],
   "source": [
    "M = [longueur_cable(i) for i in range(1, 201)]\n",
    "x = np.arange(1, 201)\n",
    "plt.plot(x, M)\n",
    "plt.show()"
   ]
  },
  {
   "cell_type": "markdown",
   "metadata": {},
   "source": [
    "On remarque que la moyenne des longueurs des câbles semble tendre vers une valeur aux alentours de 522 mètres. Avec peu de simulations on a énormément de variations, ces variations diminuent quand le nombre de simulations augmente, ce qui est cohérent."
   ]
  },
  {
   "cell_type": "markdown",
   "metadata": {},
   "source": [
    "11. Représenter l'histogramme des longueurs de câbles générées."
   ]
  },
  {
   "cell_type": "code",
   "execution_count": 15,
   "metadata": {
    "scrolled": true
   },
   "outputs": [
    {
     "data": {
      "image/png": "[encoded data removed]",
      "text/plain": [
       "<Figure size 432x288 with 1 Axes>"
      ]
     },
     "metadata": {
      "needs_background": "light"
     },
     "output_type": "display_data"
    }
   ],
   "source": [
    "plt.hist(M,50)\n",
    "plt.show()"
   ]
  },
  {
   "cell_type": "markdown",
   "metadata": {},
   "source": [
    "12. Donner un intervalle de confiance à 95% de la longueur du câble par 2 méthodes différentes. Commenter."
   ]
  },
  {
   "cell_type": "markdown",
   "metadata": {},
   "source": [
    "### 1ere methode :\n",
    "on approxime l'esperance $\\bar{x}$ et la variance $\\sigma^2$, avec n simulations (ici n = 100) puis on utilise la formule :\n",
    "\n",
    "Intervalle de confiance = [$\\bar{x} - t_\\alpha \\frac{\\sigma}{\\sqrt{n}},\\ \\bar{x} + t_\\alpha \\frac{\\sigma}{\\sqrt{n}}$]\n",
    "\n",
    "où $t_\\alpha \\approx 2 $"
   ]
  },
  {
   "cell_type": "code",
   "execution_count": 14,
   "metadata": {},
   "outputs": [
    {
     "data": {
      "text/plain": [
       "0.27589913490838058"
      ]
     },
     "execution_count": 14,
     "metadata": {},
     "output_type": "execute_result"
    }
   ],
   "source": [
    "longueurs = np.array([longueur_cable(100) for i in range(100)])\n",
    "def moyenne(lg): return(sum(lg)/len(lg))\n",
    "xbar = moyenne(longueurs)\n",
    "def ecart_type(lg): return (sum((lg - moyenne(lg))**2)/len(lg))**0.5\n",
    "sigma = ecart_type(longueurs)\n",
    "sigma"
   ]
  },
  {
   "cell_type": "code",
   "execution_count": 15,
   "metadata": {},
   "outputs": [
    {
     "data": {
      "text/plain": [
       "[]"
      ]
     },
     "execution_count": 15,
     "metadata": {},
     "output_type": "execute_result"
    }
   ],
   "source": [
    "plt.hist(longueurs,100)\n",
    "plt.plot()"
   ]
  },
  {
   "cell_type": "code",
   "execution_count": 16,
   "metadata": {},
   "outputs": [
    {
     "name": "stdout",
     "output_type": "stream",
     "text": [
      "l'intervalle de confiance à 95% pour la première methode est : [522.3465971690481, 522.4569568230114]\n",
      "soit xbar + [-0.05517982698167612, 0.05517982698167612]\n"
     ]
    }
   ],
   "source": [
    "print(f\"l'intervalle de confiance à 95% pour la première methode est : [{xbar - 2*sigma/len(longueurs)**0.5}, {xbar + 2*sigma/len(longueurs)**0.5}]\")\n",
    "print(f\"soit xbar + [{- 2*sigma/len(longueurs)**0.5}, { 2*sigma/len(longueurs)**0.5}]\")"
   ]
  },
  {
   "cell_type": "markdown",
   "metadata": {},
   "source": [
    "### Methode 2 :\n",
    "On fait 100 simulations, et on etend l'intervalle en partant de la moyenne jusqu'a avoir 95% des valeurs à l'interieur."
   ]
  },
  {
   "cell_type": "code",
   "execution_count": 17,
   "metadata": {},
   "outputs": [
    {
     "name": "stdout",
     "output_type": "stream",
     "text": [
      "l'intervalle de confiance à 95% pour la deuxième methode est : [521.9516955506692, 522.9101500657488]\n",
      "soit xbar + [-0.4500814453605244, 0.5083730697190276]\n"
     ]
    }
   ],
   "source": [
    "def closest_ind_moy(moy,t):\n",
    "    c = 0\n",
    "    d = np.inf\n",
    "    for i in range(len(t)):\n",
    "        if abs(t[i]-moy) < d:\n",
    "            d = abs(t[i] - moy)\n",
    "            c = i\n",
    "    return c\n",
    "\n",
    "longueurs.sort()\n",
    "ci = closest_ind_moy(xbar, longueurs)\n",
    "indg = ci\n",
    "indd = ci\n",
    "while indd - indg + 1 < 0.95 * len(longueurs):\n",
    "    if indg > 0 :\n",
    "        indg -=1\n",
    "    if indd < len(longueurs) - 1:\n",
    "        indd +=1\n",
    "        \n",
    "print(f\"l'intervalle de confiance à 95% pour la deuxième methode est : [{longueurs[indg]}, {longueurs[indd]}]\")\n",
    "print(f\"soit xbar + [{longueurs[indg] - xbar}, {longueurs[indd] - xbar}]\")"
   ]
  },
  {
   "cell_type": "markdown",
   "metadata": {},
   "source": [
    "On remarque que l'intervalle obtenu avec la seconde méthode est plus grand que le premier. On a fait l'hyptohèse implicite dans la première méthode que la variable \"longeur du câble\" suit une loi normale, ce qui n'est pas garantit. On sait que $X$ suit une loi normale mais la fonction qui calcule la longueur n'est pas linéaire, on ne peut pas assurer que la longueur du câble suive également une loi normale."
   ]
  },
  {
   "cell_type": "markdown",
   "metadata": {},
   "source": [
    "\n",
    "\n",
    "13. Donner une estimation de la probabilité que la longueur du câble dépasse 525 m."
   ]
  },
  {
   "cell_type": "code",
   "execution_count": 20,
   "metadata": {},
   "outputs": [
    {
     "name": "stdout",
     "output_type": "stream",
     "text": [
      "une estimation de la probabilité que la longueur du câble dépasse 525m est : 0.18\n"
     ]
    }
   ],
   "source": [
    "n = 0\n",
    "longueurs = [longueur_cable(1) for i in range(100)]\n",
    "for i in longueurs:\n",
    "    if i > 525:\n",
    "        n+=1\n",
    "print(f\"une estimation de la probabilité que la longueur du câble dépasse 525m est : {n/len(longueurs)}\")"
   ]
  },
  {
   "cell_type": "markdown",
   "metadata": {},
   "source": [
    "14. Reprendre les questions précédentes avec 1000, 10000 puis 100000 simulations. Commenter."
   ]
  },
  {
   "cell_type": "markdown",
   "metadata": {},
   "source": [
    "### 1000 simulations"
   ]
  },
  {
   "cell_type": "code",
   "execution_count": 21,
   "metadata": {},
   "outputs": [
    {
     "name": "stdout",
     "output_type": "stream",
     "text": [
      "l'intervalle de confiance à 95% pour la première methode est : [522.2156309579937, 522.569116233775]\n",
      "soit xbar + [-0.1767426378906718, 0.1767426378906718]\n"
     ]
    },
    {
     "data": {
      "image/png": "[encoded data removed]",
      "text/plain": [
       "<Figure size 432x288 with 1 Axes>"
      ]
     },
     "metadata": {
      "needs_background": "light"
     },
     "output_type": "display_data"
    },
    {
     "name": "stdout",
     "output_type": "stream",
     "text": [
      "l'intervalle de confiance à 95% pour la deuxième methode est : [517.0654221533111, 527.937248109019]\n",
      "soit xbar + [-5.326951442573204, 5.544874513134687]\n"
     ]
    }
   ],
   "source": [
    "longueurs = np.array([longueur_cable(1) for i in range(1000)])\n",
    "xbar = moyenne(longueurs)\n",
    "sigma = ecart_type(longueurs)\n",
    "\n",
    "print(f\"l'intervalle de confiance à 95% pour la première methode est : [{xbar - 2*sigma/len(longueurs)**0.5}, {xbar + 2*sigma/len(longueurs)**0.5}]\")\n",
    "print(f\"soit xbar + [{- 2*sigma/len(longueurs)**0.5}, { 2*sigma/len(longueurs)**0.5}]\")\n",
    "\n",
    "longueurs.sort()\n",
    "ci = closest_ind_moy(xbar, longueurs)\n",
    "indg = ci\n",
    "indd = ci\n",
    "while indd - indg + 1 < 0.95 * len(longueurs):\n",
    "    if indg > 0 :\n",
    "        indg -=1\n",
    "    if indd < len(longueurs) - 1:\n",
    "        indd +=1\n",
    "        \n",
    "plt.hist(longueurs,50)\n",
    "plt.show()\n",
    "\n",
    "print(f\"l'intervalle de confiance à 95% pour la deuxième methode est : [{longueurs[indg]}, {longueurs[indd]}]\")\n",
    "print(f\"soit xbar + [{longueurs[indg] - xbar}, {longueurs[indd] - xbar}]\")"
   ]
  },
  {
   "cell_type": "code",
   "execution_count": 26,
   "metadata": {},
   "outputs": [
    {
     "name": "stdout",
     "output_type": "stream",
     "text": [
      "une estimation de la probabilité que la longueur du câble dépasse 525m est : 0.1877\n"
     ]
    }
   ],
   "source": [
    "n = 0\n",
    "for i in longueurs:\n",
    "    if i > 525:\n",
    "        n+=1\n",
    "print(f\"une estimation de la probabilité que la longueur du câble dépasse 525m est : {n/len(longueurs)}\")"
   ]
  },
  {
   "cell_type": "markdown",
   "metadata": {},
   "source": [
    "### 10000 Simulations"
   ]
  },
  {
   "cell_type": "code",
   "execution_count": 27,
   "metadata": {},
   "outputs": [
    {
     "name": "stdout",
     "output_type": "stream",
     "text": [
      "l'intervalle de confiance à 95% pour la première methode est : [522.3786293873658, 522.4941657683013]\n",
      "soit xbar + [-0.05776819046775381, 0.05776819046775381]\n"
     ]
    },
    {
     "data": {
      "image/png": "[encoded data removed]",
      "text/plain": [
       "<Figure size 432x288 with 1 Axes>"
      ]
     },
     "metadata": {
      "needs_background": "light"
     },
     "output_type": "display_data"
    },
    {
     "name": "stdout",
     "output_type": "stream",
     "text": [
      "l'intervalle de confiance à 95% pour la deuxième methode est : [517.8676169553383, 531.0941101854411]\n",
      "soit xbar + [-4.568780622495183, 8.65771260760755]\n"
     ]
    }
   ],
   "source": [
    "longueurs = np.array([longueur_cable(1) for i in range(10000)])\n",
    "xbar = moyenne(longueurs)\n",
    "sigma = ecart_type(longueurs)\n",
    "\n",
    "print(f\"l'intervalle de confiance à 95% pour la première methode est : [{xbar - 2*sigma/len(longueurs)**0.5}, {xbar + 2*sigma/len(longueurs)**0.5}]\")\n",
    "print(f\"soit xbar + [{- 2*sigma/len(longueurs)**0.5}, { 2*sigma/len(longueurs)**0.5}]\")\n",
    "\n",
    "longueurs.sort()\n",
    "ci = closest_ind_moy(xbar, longueurs)\n",
    "indg = ci\n",
    "indd = ci\n",
    "while indd - indg + 1 < 0.95 * len(longueurs):\n",
    "    if indg > 0 :\n",
    "        indg -=1\n",
    "    if indd < len(longueurs) - 1:\n",
    "        indd +=1\n",
    "\n",
    "plt.hist(longueurs,50)\n",
    "plt.show()\n",
    "\n",
    "print(f\"l'intervalle de confiance à 95% pour la deuxième methode est : [{longueurs[indg]}, {longueurs[indd]}]\")\n",
    "print(f\"soit xbar + [{longueurs[indg] - xbar}, {longueurs[indd] - xbar}]\")"
   ]
  },
  {
   "cell_type": "code",
   "execution_count": 28,
   "metadata": {},
   "outputs": [
    {
     "name": "stdout",
     "output_type": "stream",
     "text": [
      "une estimation de la probabilité que la longueur du câble dépasse 525m est : 0.1825\n"
     ]
    }
   ],
   "source": [
    "n = 0\n",
    "for i in longueurs:\n",
    "    if i > 525:\n",
    "        n+=1\n",
    "print(f\"une estimation de la probabilité que la longueur du câble dépasse 525m est : {n/len(longueurs)}\")"
   ]
  },
  {
   "cell_type": "markdown",
   "metadata": {},
   "source": [
    "### 100000 simulations"
   ]
  },
  {
   "cell_type": "code",
   "execution_count": 29,
   "metadata": {},
   "outputs": [
    {
     "name": "stdout",
     "output_type": "stream",
     "text": [
      "l'intervalle de confiance à 95% pour la première methode est : [522.4020835012968, 522.4386989972677]\n",
      "soit xbar + [-0.0183077479854247, 0.0183077479854247]\n"
     ]
    },
    {
     "data": {
      "image/png": "[encoded data removed]",
      "text/plain": [
       "<Figure size 432x288 with 1 Axes>"
      ]
     },
     "metadata": {
      "needs_background": "light"
     },
     "output_type": "display_data"
    },
    {
     "name": "stdout",
     "output_type": "stream",
     "text": [
      "l'intervalle de confiance à 95% pour la deuxième methode est : [517.6559444199434, 529.926201117304]\n",
      "soit xbar + [-4.764446829338908, 7.505809868021743]\n"
     ]
    }
   ],
   "source": [
    "longueurs = np.array([longueur_cable(1) for i in range(100000)])\n",
    "xbar = moyenne(longueurs)\n",
    "sigma = ecart_type(longueurs)\n",
    "\n",
    "print(f\"l'intervalle de confiance à 95% pour la première methode est : [{xbar - 2*sigma/len(longueurs)**0.5}, {xbar + 2*sigma/len(longueurs)**0.5}]\")\n",
    "print(f\"soit xbar + [{- 2*sigma/len(longueurs)**0.5}, { 2*sigma/len(longueurs)**0.5}]\")\n",
    "\n",
    "longueurs.sort()\n",
    "ci = closest_ind_moy(xbar, longueurs)\n",
    "indg = ci\n",
    "indd = ci\n",
    "while indd - indg + 1 < 0.95 * len(longueurs):\n",
    "    if indg > 0 :\n",
    "        indg -=1\n",
    "    if indd < len(longueurs) - 1:\n",
    "        indd +=1\n",
    "        \n",
    "plt.hist(longueurs,50)\n",
    "plt.show()\n",
    "\n",
    "print(f\"l'intervalle de confiance à 95% pour la deuxième methode est : [{longueurs[indg]}, {longueurs[indd]}]\")\n",
    "print(f\"soit xbar + [{longueurs[indg] - xbar}, {longueurs[indd] - xbar}]\")"
   ]
  },
  {
   "cell_type": "code",
   "execution_count": 30,
   "metadata": {},
   "outputs": [
    {
     "name": "stdout",
     "output_type": "stream",
     "text": [
      "une estimation de la probabilité que la longueur du câble dépasse 525m est : 0.18217\n"
     ]
    }
   ],
   "source": [
    "n = 0\n",
    "for i in longueurs:\n",
    "    if i > 525:\n",
    "        n+=1\n",
    "print(f\"une estimation de la probabilité que la longueur du câble dépasse 525m est : {n/len(longueurs)}\")"
   ]
  },
  {
   "cell_type": "markdown",
   "metadata": {},
   "source": [
    "La méthode 1 est intéressante car elle est plus rapide, mais on ne peut assurer que ce que l'on calule ressemble effectivement à une loi normale. La methode 2 est plus fiable, car avec elle $95\\% +- \\frac{2}{n}$ valeurs sont dans l'intervalle donné.\n",
    "\n",
    "On remarque que l'écart entre les deux intervalles se creuse lorsqu'on fait plus de simulations. On peut supposer que l'hypothèse que la variable suive une loi normale est erronnée. "
   ]
  }
 ],
 "metadata": {
  "@webio": {
   "lastCommId": "5ceb69a5bbd14071b254c2439a58ac4b",
   "lastKernelId": "0e923419-c540-42c1-ab5f-d0e05ff4521c"
  },
  "kernelspec": {
   "display_name": "Python 3",
   "language": "python",
   "name": "python3"
  },
  "language_info": {
   "codemirror_mode": {
    "name": "ipython",
    "version": 3
   },
   "file_extension": ".py",
   "mimetype": "text/x-python",
   "name": "python",
   "nbconvert_exporter": "python",
   "pygments_lexer": "ipython3",
   "version": "3.6.3"
  }
 },
 "nbformat": 4,
 "nbformat_minor": 2
}
