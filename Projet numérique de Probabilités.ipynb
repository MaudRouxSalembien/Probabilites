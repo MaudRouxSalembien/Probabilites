{
 "cells": [
  {
   "cell_type": "markdown",
   "metadata": {},
   "source": [
    "# Enoncé du problème\n",
    "\n",
    "L'objectif de ce projet est d'estimer la longueur de câble sous-marin nécessaire pour relier deux côtes $A$ et $B$  en utilisant des simulations conditionnelles.\n",
    "\n",
    "\n",
    "Le câble reposera sur le fond marin dont la profondeur est inconnue.\n",
    "Le segment $[AB]$ est discrétisé par une séquence de (N+1) points. On pose $x_0=A$ et pour $i=1,\\dots,N$, $$x_i=x_0+i\\Delta$$ où $$\\Delta = \\frac{AB}{N}$$ de telle sorte que $x_N=B$.\n",
    "On note $z(x)$ la profondeur du fond marin au point $x$ de telle sorte \n",
    "qu'on pourra estimer la longueur totale de câble nécessaire par la somme \n",
    "des longueurs sur les segments de la discrétisation :\n",
    "\n",
    "$$l=\\sum_{i=1}^N\\sqrt{\\Delta^2+(z(x_i)-z(x_{i-1}))^2}.$$\n",
    "\n",
    "Enfin, notons que l'on dispose d'un ensemble de $n$ observations de la \n",
    "profondeur que l'on supposera situées sur des points de discrétisation $z(x_{j_1}),\\dots,z(x_{j_n})$.\n",
    "\n",
    "\n",
    "On adopte un modèle probabiliste pour la profondeur. On suppose que le vecteur des \n",
    "profondeurs sur les points de discrétisation \n",
    "$\\mathbf{z}=(z(x_0),\\dots,z(x_N))$ est la réalisation\n",
    "d'un vecteur aléatoire gaussien $\\mathbf{Z}=(Z(x_0),\\dots,Z(x_N))$ \n",
    "dont le vecteur d'espérance ne contient qu'une seule valeur $\\mu$ \n",
    "répétée $N+1$ fois et dont la matrice de covariance $\\Sigma$ a pour termes $\\sigma_{ij}$\n",
    "définis par $\\sigma_{ij}=C(|x_i-x_j|)$ où $C$ est une\n",
    "fonction décroissante, traduisant le fait que deux points \n",
    "géographiquement proches ont tendance à avoir des profondeurs plus similaires que deux points éloignés.\n",
    "\n",
    "On supposera que la matrice de covariance ainsi \n",
    "générée est définie-positive (en fait, $C$ sera choisie parmi les fonctions qui, \n",
    "appliquées aux termes d'une matrice de distance, produisent des matrices définie-positives). \n",
    "\n",
    "Si on note $L$ la variable aléatoire donnant la longueur de cable nécessaire : \n",
    "$$L=\\sum_{i=1}^N\\sqrt{\\Delta^2+(Z(x_i)-Z(x_{i-1}))^2},$$\n",
    "un bon estimateur de $L$ est fourni par l'espérance conditionnelle \n",
    "\n",
    "$$L^\\star=E[L|Z(x_{j_1})=z(x_{j_1}),\\dots,Z(x_{j_n})=z(x_{j_n})].$$\n",
    "                                                                              \n",
    "Cependant, cette quantité est difficilement accessible par le calcul. \n",
    "On va donc avoir recours à des\n",
    "simulations conditionnelles. C'est-à-dire que l'on va simuler \n",
    "un nombre $K$ de réalités (disons des réalisations du modèle \n",
    "probabiliste choisi), et sur chacune d'entre elle, \n",
    "la quantité de câble nécessaire sera évaluée. \n",
    "On disposera ainsi d'un échantillon $l_{(1)},\\dots,l_{(K)}$ de \n",
    "longueures simulées. Puis on approchera l'espérance conditionnelle  par \n",
    "$$L^\\star=\\frac{1}{K}\\sum_{k=1}^K l_{(k)}.$$\n",
    "\n",
    "L'objectif de ce projet est donc d'écrire un code permettant \n",
    "d'effectuer cette simulation conditionnelle, puis de l'appliquer \n",
    "au jeu de données fourni et d'en déduire une estimation de la longueur de câble nécessaire."
   ]
  },
  {
   "cell_type": "markdown",
   "metadata": {},
   "source": [
    "# Questions théoriques\n",
    "\n",
    "1. Quel théorème du cours nous autorise-t-il à estimer l'espérance conditionnelle par la moyenne empirique de simulations conditionnelles ?\n",
    "\n",
    "2. Rappeler la loi conditionnelle du vecteur des composantes de $\\mathbf{Z}$ correspondant aux points de discrétisation\n",
    "sans observation, connaissant les valeurs prises par les composantes aux sites d'observation.\n",
    "\n",
    "3. Si $\\mathbf{Y}=(Y_1,\\dots,Y_p)$ est un vecteur de composantes gaussiennes indépendantes, toutes d'espérance nulle et de variance 1, \n",
    "quelle est la loi du vecteur $\\mathbf{Z}=m+R\\mathbf{Y}$ où $R$ est une matrice $p\\times p$ et $m$ est un vecteur de taille $p$ ?\n",
    "\n",
    "4. En déduire un algorithme de simulation conditionnelle."
   ]
  },
  {
   "cell_type": "markdown",
   "metadata": {},
   "source": [
    "1 : La loi forte des grands nombres nous permet d'estimer l'espérance conditionnelle par la moyenne empirique de simulations conditionnelles.\n",
    "\n",
    "2 : On note $X$ le vecteur gaussien correspondant aux points de discrétisation sans observation, et $Y$ le vecteur gaussien correspondant aux points observés.\n",
    "\n",
    "\\mathbf{P}_(Z   = \\frac{1}{(2\\pi)^\\frac{k}{2} \\sqrt{det(CS_Y)}}$\n",
    "\n",
    "3 : $Y$ est centrée réduite donc le vecteur $Z$ suit une loi normale d'espérance $m$ et de matrice de covariance $RR^{t}$ d'après le cours (simulation d'un vecteur gaussien).\n",
    "\n",
    "4 : Pour simuler un vecteur gaussien $Z = (z_1, ... , z_k)$ d'espérance $0$ et de matrice de covariance l'identité, on peut utiliser la méthode de Box-Muller pour simuler $n$ variables aléatoires gaussiennes centrées, réduites et indépendantes qui forment les $z_i$. Puis on utilise la relation ci-dessus pour nous ramener à un vecteur ayant l'espérance et la matrice de covariance que l'on souhaite."
   ]
  },
  {
   "cell_type": "markdown",
   "metadata": {},
   "source": [
    "# Données du problème\n",
    "Conventionnellement, $A$ est l'origine, $B=500$, $N=100$.\n",
    "\n",
    "Les données $$\\begin{array}{c|r}i & z(x_i)\\\\\n",
    "\\hline\n",
    "0 & 0\\\\\n",
    "20 & -4\\\\\n",
    "40 & -12.8\\\\\n",
    "60 & -1\\\\\n",
    "80 & -6.5\\\\\n",
    "100 & 0\\end{array}$$\n",
    "\n",
    "L'espérance de chaque composante du vecteur aléatoire $\\mathbf{Z}$ est donnée par $\\mu=-5.$\n",
    "\n",
    "La fonction $C$ est définie par $$C(h)=\\sigma^2 e^{-|h|/a},$$\n",
    "\n",
    "où $|h|$ correspond à la distance entre deux points, $a=50$ et $\\sigma^2=12$.\n"
   ]
  },
  {
   "cell_type": "markdown",
   "metadata": {},
   "source": [
    "# Implémentation"
   ]
  },
  {
   "cell_type": "markdown",
   "metadata": {},
   "source": [
    "## Préambule"
   ]
  },
  {
   "cell_type": "code",
   "execution_count": 67,
   "metadata": {
    "collapsed": true
   },
   "outputs": [],
   "source": [
    "#Chargement de dépendances\n",
    "\n",
    "import numpy as np\n",
    "import matplotlib.pyplot as plt\n",
    "\n",
    "#Discrétisation\n",
    "A=0\n",
    "B=500\n",
    "N=101 #Nombre de points de discrétisation\n",
    "Delta = (B-A)/(N-1)\n",
    "discretization_indexes = np.arange(N)\n",
    "discretization = discretization_indexes*Delta\n",
    "#Paramètres du modèle\n",
    "\n",
    "mu=-5\n",
    "a = 50\n",
    "sigma2 = 12\n",
    "\n",
    "#Données\n",
    "\n",
    "observation_indexes = [0,20,40,60,80,100]\n",
    "depth = np.array([0,-4,-12.8,-1,-6.5,0])\n",
    "\n",
    "#Indices des composantes correspondant aux observations et aux componsantes non observées\n",
    "\n",
    "unknown_indexes=list(set(discretization_indexes)-set(observation_indexes))"
   ]
  },
  {
   "cell_type": "markdown",
   "metadata": {},
   "source": [
    "## Questions\n",
    "\n",
    "1. Ecrire une fonction qui prend en argument la distance entre les points, le paramètre $a$, et le paramètre $\\sigma^2$, et qui retourne la covariance entre deux points.\n",
    "On pourra fournir une matrice de distance à cette fonction. Dans ce cas, la fonction renverra la matrice de covariance."
   ]
  },
  {
   "cell_type": "code",
   "execution_count": 8,
   "metadata": {
    "collapsed": true
   },
   "outputs": [],
   "source": [
    "def cov(dist,a,sigma2):\n",
    "    return sigma2 * np.exp(-dist/a)"
   ]
  },
  {
   "cell_type": "markdown",
   "metadata": {},
   "source": [
    "2. Calculer la matrice de distance."
   ]
  },
  {
   "cell_type": "code",
   "execution_count": 9,
   "metadata": {
    "collapsed": true
   },
   "outputs": [],
   "source": [
    "def distance(x):\n",
    "    return abs(discretization[x[0]]-discretization[x[1]])\n",
    "dist = np.vectorize(distance)\n",
    "distt = np.vectorize(dist)\n",
    "Matrice_Dist = [[distance((i,j)) for i in range(N)] for j in range(N)]"
   ]
  },
  {
   "cell_type": "markdown",
   "metadata": {},
   "source": [
    "3. Calculer la matrice de covariance du vecteur $\\mathbf{Z}=(Z(x_0),\\dots,Z(x_N))$."
   ]
  },
  {
   "cell_type": "code",
   "execution_count": 10,
   "metadata": {
    "collapsed": true
   },
   "outputs": [],
   "source": [
    "Matrice_covariance = [[cov(distance((i,j)),a,sigma2) for i in range(N)] for j in range(N)]"
   ]
  },
  {
   "cell_type": "markdown",
   "metadata": {},
   "source": [
    "4. Extraire les 3 matrices de covariance suivantes :\n",
    "\n",
    " * entre les observations\n",
    "\n",
    " * entre les observations et les inconnues\n",
    "\n",
    " * entre les inconnues\n"
   ]
  },
  {
   "cell_type": "code",
   "execution_count": 11,
   "metadata": {},
   "outputs": [],
   "source": [
    "n = len(observation_indexes)\n",
    "C_observations = np.zeros((n, n)) #matrice de covariance entre les observations\n",
    "C_obs_unknown = np.zeros((n, N-n))#matrice de covariance entre les observations et les inconnues\n",
    "C_unknown = np.zeros((N-n, N-n)) #matrice de covariance des inconnues\n",
    "\n",
    "for i, e in enumerate(observation_indexes):\n",
    "    for j, f in enumerate(observation_indexes):\n",
    "        C_observations[i][j] = Matrice_covariance[e][f]\n",
    "\n",
    "for i, e in enumerate(observation_indexes):\n",
    "    for j, f in enumerate(unknown_indexes):\n",
    "        C_obs_unknown[i][j] = Matrice_covariance[e][f]\n",
    "\n",
    "for i, e in enumerate(unknown_indexes):\n",
    "    for j, f in enumerate(unknown_indexes):\n",
    "        C_unknown[i][j] = Matrice_covariance[e][f]"
   ]
  },
  {
   "cell_type": "markdown",
   "metadata": {},
   "source": [
    "5. Calculer l'espérance conditionnelle des composantes non observées connaissant les observations et la représenter avec les données."
   ]
  },
  {
   "cell_type": "code",
   "execution_count": 1,
   "metadata": {},
   "outputs": [
    {
     "ename": "SyntaxError",
     "evalue": "invalid syntax (<ipython-input-1-be832243026f>, line 1)",
     "output_type": "error",
     "traceback": [
      "\u001b[1;36m  File \u001b[1;32m\"<ipython-input-1-be832243026f>\"\u001b[1;36m, line \u001b[1;32m1\u001b[0m\n\u001b[1;33m    def densité_conditionelle(l1 : numpy array, l2 : numpy array):\u001b[0m\n\u001b[1;37m                                             ^\u001b[0m\n\u001b[1;31mSyntaxError\u001b[0m\u001b[1;31m:\u001b[0m invalid syntax\n"
     ]
    }
   ],
   "source": [
    "def densité_conditionelle(l1 : numpy array, l2 : numpy array):\n",
    "        return (2*np.pi)^(N) * (sqrt(det(C_unknown)) / sqrt(det(C_observation))) \n",
    "                * np.exp(- 0.5 * np.transpose((l1 - mu )) * np.linalg.inv(C_unknown) *"
   ]
  },
  {
   "cell_type": "markdown",
   "metadata": {},
   "source": [
    "espérance conditionnelle de Z sachant $Y=(z_0,..., z_{N-n})$ d'après le poly proba IV: \n",
    "$m_{Z|Y=y}=\\psi(y) = m_z - C_{Z,Y}C^{-1}_Y(y-m_Y)$\n",
    "\n"
   ]
  },
  {
   "cell_type": "code",
   "execution_count": 65,
   "metadata": {},
   "outputs": [
    {
     "name": "stdout",
     "output_type": "stream",
     "text": [
      "[ -9.53311665e+00  -9.11160226e+00  -8.73123816e+00  -8.38821755e+00\n",
      "  -8.07910736e+00  -7.80081391e+00  -7.55055195e+00  -7.32581677e+00\n",
      "  -7.12435915e+00  -6.94416282e+00  -6.78342433e+00  -6.64053495e+00\n",
      "  -6.51406460e+00  -6.40274751e+00  -6.30546959e+00  -6.22125725e+00\n",
      "  -6.14926767e+00  -6.08878034e+00  -6.03918989e+00  -5.68567907e+00\n",
      "  -5.37822064e+00  -5.07454757e+00  -4.77162060e+00  -4.46640794e+00\n",
      "  -4.15585490e+00  -3.83685338e+00  -3.50621069e+00  -3.16061766e+00\n",
      "  -2.79661547e+00  -2.41056107e+00  -1.99859069e+00  -1.55658120e+00\n",
      "  -1.08010882e+00  -5.64404847e-01  -4.30794911e-03   6.05787514e-01\n",
      "   1.27198758e+00   2.00095981e+00   1.91810571e+00   1.10545015e+00\n",
      "   3.53899992e-01  -3.44066539e-01  -9.95434923e-01  -1.60672427e+00\n",
      "  -2.18405258e+00  -2.73319794e+00  -3.25965638e+00  -3.76869688e+00\n",
      "  -4.26541408e+00  -4.75477930e+00  -5.24169027e+00  -5.73102016e+00\n",
      "  -6.22766634e+00  -6.73659942e+00  -7.26291297e+00  -7.81187451e+00\n",
      "  -8.38897824e+00  -8.56297185e+00  -8.16160311e+00  -7.79187676e+00\n",
      "  -7.45009246e+00  -7.13282950e+00  -6.83691261e+00  -6.55938017e+00\n",
      "  -6.29745453e+00  -6.04851424e+00  -5.81006784e+00  -5.57972887e+00\n",
      "  -5.35519203e+00  -5.13421006e+00  -4.91457131e+00  -4.69407757e+00\n",
      "  -4.47052205e+00  -4.24166733e+00  -4.00522297e+00  -3.75882255e+00\n",
      "  -3.78644058e+00  -4.06073545e+00  -4.32562984e+00  -4.58377491e+00\n",
      "  -4.83775426e+00  -5.09010980e+00  -5.34336719e+00  -5.60006111e+00\n",
      "  -5.86276064e+00  -6.13409498e+00  -6.41677972e+00  -6.71364406e+00\n",
      "  -7.02765913e+00  -7.36196770e+00  -7.71991563e+00  -8.10508539e+00\n",
      "  -8.52133189e+00  -8.97282107e+00  -9.46407157e+00]\n"
     ]
    }
   ],
   "source": [
    "m_z=-5*np.ones(N-n)\n",
    "m_y=-5*np.ones(n)\n",
    "y=np.random.multivariate_normal(m_y, C_observations) \n",
    "#le problème c'est que l'espérance conditionnelle est une fonction de y... que doit-on répondre??\n",
    "#he en fait on nous donne un y, c'est le tableau depth. my bad.\n",
    "m = m_z - np.dot(np.transpose(C_obs_unknown), np.dot(np.linalg.inv(C_observations), depth-m_y))\n",
    "print(m)"
   ]
  },
  {
   "cell_type": "code",
   "execution_count": 73,
   "metadata": {},
   "outputs": [
    {
     "data": {
      "image/png": "[encoded data removed]",
      "text/plain": [
       "<matplotlib.figure.Figure at 0x2097c2424a8>"
      ]
     },
     "metadata": {},
     "output_type": "display_data"
    }
   ],
   "source": [
    "def esperance_conditionelle(y):\n",
    "    return m_z - np.dot(np.transpose(C_obs_unknown), np.dot(np.linalg.inv(C_observations), y-m_y))\n",
    "\n",
    "Y=[discretization[i] for i in unknown_indexes]\n",
    "M=[m[i] for i in range(N-n)]\n",
    "plt.plot(Y, M)\n",
    "plt.show()\n",
    "#c'est très le rigolo"
   ]
  },
  {
   "cell_type": "markdown",
   "metadata": {},
   "source": [
    "6. Calculer la matrice de variance conditionnelle et tracer sa diagonale (variance conditionnelle) en fonction de la position. Commenter."
   ]
  },
  {
   "cell_type": "code",
   "execution_count": 74,
   "metadata": {},
   "outputs": [
    {
     "data": {
      "image/png": "[encoded data removed]",
      "text/plain": [
       "<matplotlib.figure.Figure at 0x2097c249f60>"
      ]
     },
     "metadata": {},
     "output_type": "display_data"
    }
   ],
   "source": [
    "Cov_conditionnelle = C_unknown - np.dot(np.transpose(C_obs_unknown), np.dot(np.linalg.inv(C_observations), C_obs_unknown))\n",
    "position = [discretization[i] for i in unknown_indexes]\n",
    "diagonale = [Cov_conditionnelle[i][i] for i in range(N-n)]\n",
    "plt.plot(position, diagonale)\n",
    "plt.show()"
   ]
  },
  {
   "cell_type": "markdown",
   "metadata": {},
   "source": [
    "7. Effectuer une simulation conditionnelle. Sur un même graphique, tracer la simulation ainsi que les données et l'espérance conditionnelle. Commenter."
   ]
  },
  {
   "cell_type": "code",
   "execution_count": 87,
   "metadata": {},
   "outputs": [
    {
     "ename": "SyntaxError",
     "evalue": "invalid syntax (<ipython-input-87-fadd6dfa9a1d>, line 8)",
     "output_type": "error",
     "traceback": [
      "\u001b[1;36m  File \u001b[1;32m\"<ipython-input-87-fadd6dfa9a1d>\"\u001b[1;36m, line \u001b[1;32m8\u001b[0m\n\u001b[1;33m    import {matrix-decomposition}\u001b[0m\n\u001b[1;37m           ^\u001b[0m\n\u001b[1;31mSyntaxError\u001b[0m\u001b[1;31m:\u001b[0m invalid syntax\n"
     ]
    }
   ],
   "source": [
    "#simulons la variable conditionnelle. On utilise l'algorithme décrit à la question théorique 4\n",
    "#pour cela nous avons besoin de trouver la décomposition de Cholesky de la matrice de covariance conditionnelle\n",
    "#on pourrait coder l'algo de décomposition nous-mêmes. mais j'ai trouvé un module qui le fait, \n",
    "#et comme ma réponse à cette question me semble déjà un peu douteuse (avec numpy on simule une gaussienne comme\n",
    "#on veut, pourquoi s'embêter à passer par une gaussienne centrée réduite ??)\n",
    "#j'ai installé un module avec pip (pip install matrix-decomposition)\n",
    "\n",
    "# echec de import matrix-decomposition\n",
    "profondeur = np.linspace(0, -30, 100)\n",
    "def simulation_conditionnelle(nb):\n",
    "    s = np.zeros(N-n)\n",
    "    result = np.zeros(100)\n",
    "    for i in range(nb):\n",
    "        y = np.random.normal(size=(N-n))\n",
    "        s+=(m_z + np.dot(L, y))\n",
    "    return s/nb\n",
    "\n"
   ]
  },
  {
   "cell_type": "markdown",
   "metadata": {},
   "source": [
    "\n",
    "8. Ecrire une fonction qui calcule la longueur du câble en fonction du vecteur des profondeurs et du pas de discrétisation."
   ]
  },
  {
   "cell_type": "markdown",
   "metadata": {},
   "source": [
    "9. Utiliser cette fonction pour calculer la longueur du câble à partir de 100 simulations. Comparer l'espérance conditionnelle (estimée) de la longueur avec la longueur de l'espérance conditionnelle."
   ]
  },
  {
   "cell_type": "markdown",
   "metadata": {},
   "source": [
    "10. Représenter la suite $M_n$ des moyennes des longueurs de câbles en fonction du nombre de simulations. Commenter."
   ]
  },
  {
   "cell_type": "markdown",
   "metadata": {},
   "source": [
    "11. Représenter l'histogramme des longueurs de câbles générées."
   ]
  },
  {
   "cell_type": "markdown",
   "metadata": {},
   "source": [
    "12. Donner un intervalle de confiance à 95% de la longueur du câble par 2 méthodes différentes. Commenter."
   ]
  },
  {
   "cell_type": "markdown",
   "metadata": {},
   "source": [
    "13. Donner une estimation de la probabilité que la longueur du câble dépasse 525 m."
   ]
  },
  {
   "cell_type": "markdown",
   "metadata": {},
   "source": [
    "14. Reprendre les questions précédentes avec 1000, 10000 puis 100000 simulations. Commenter."
   ]
  }
 ],
 "metadata": {
  "@webio": {
   "lastCommId": "5ceb69a5bbd14071b254c2439a58ac4b",
   "lastKernelId": "0e923419-c540-42c1-ab5f-d0e05ff4521c"
  },
  "kernelspec": {
   "display_name": "Python 3",
   "language": "python",
   "name": "python3"
  },
  "language_info": {
   "codemirror_mode": {
    "name": "ipython",
    "version": 3
   },
   "file_extension": ".py",
   "mimetype": "text/x-python",
   "name": "python",
   "nbconvert_exporter": "python",
   "pygments_lexer": "ipython3",
   "version": "3.6.3"
  }
 },
 "nbformat": 4,
 "nbformat_minor": 2
}
